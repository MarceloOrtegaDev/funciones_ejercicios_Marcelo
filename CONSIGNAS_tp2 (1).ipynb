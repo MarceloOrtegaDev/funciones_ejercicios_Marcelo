{
 "cells": [
  {
   "cell_type": "markdown",
   "metadata": {},
   "source": [
    "# Criterios de evaluación.\n",
    "\n",
    "* Se deben utilizar nombres de variables descriptivos y claros.\n",
    "* Cada ejercicio debe ser realizado utilizando **FUNCIONES**, NO solo codigo suelto.\n",
    "* Comentarios claros y concisos que expliquen el propósito de cada sección del código.\n",
    "* Entrega en tiempo y forma.\n",
    "* Todo el código desarrollado debe ser subido a un repositorio en GitHub.\n",
    "\n",
    "\n",
    "**Aclaración: Para resolver las actividades se debe incertar casillas de codigo entre cada actividad del cuaderno de Jupyter**"
   ]
  },
  {
   "cell_type": "markdown",
   "metadata": {},
   "source": [
    "### 1. **Bucles**\n",
    "\n",
    "   - **Actividad 1.1**: Escribir un programa que muestre el print de todo lo que el usuario introduzca hasta que el usuario escriba “salir” que terminará.\n",
    "   \n",
    "   - **Actividad 1.2**: Escribir un programa que pida al usuario un número entero y muestre por pantalla un triángulo rectángulo como el de más abajo con la cantidad de escalones indicados previamente (los numeros dentro del triangulo deben ser enteros aleatorios del 0 al 9).\n",
    "* 1\n",
    "* 3 1\n",
    "* 5 3 1\n",
    "* 7 5 3 1\n",
    "* 9 7 5 3 1"
   ]
  },
  {
   "cell_type": "code",
   "execution_count": 1,
   "metadata": {},
   "outputs": [
    {
     "name": "stdout",
     "output_type": "stream",
     "text": [
      "hola\n",
      "mi gente\n",
      "cómo estan\n",
      "yo todo bien\n",
      "jaja\n",
      "Fin del programa\n"
     ]
    }
   ],
   "source": [
    "def usuarioPrint():\n",
    "    text = input(\"Escribe oraciones o escribe `salir` para terminar: \")\n",
    "    while text != \"salir\":\n",
    "        print(text)\n",
    "        text = input(\"Escribe oraciones o escribe `salir` para terminar: \")\n",
    "    print(\"Fin del programa\")\n",
    "usuarioPrint()"
   ]
  },
  {
   "cell_type": "code",
   "execution_count": 3,
   "metadata": {},
   "outputs": [
    {
     "name": "stdout",
     "output_type": "stream",
     "text": [
      "3 \n",
      "2 6 \n",
      "9 4 1 \n"
     ]
    }
   ],
   "source": [
    "import random\n",
    "text = int(input(\"Escribe un número entero: \"))\n",
    "\n",
    "def triangulo_enteros():\n",
    "    for i in range(1, text + 1):\n",
    "        for _ in range(i):\n",
    "            print(random.randint(0, 9), end=\" \")\n",
    "        print()\n",
    "triangulo_enteros()\n"
   ]
  },
  {
   "cell_type": "markdown",
   "metadata": {},
   "source": [
    "### 2. **Listas y Tuplas**\n",
    "\n",
    "   - **Actividad 1**: Escribir un programa que pida al usuario una frase y muestre por pantalla el número de veces que contiene cada vocal y la cantidad de espacios en blanco.\n",
    "\n",
    "   - **Actividad 2**: Escribir un programa que cree una matriz (con numeros aleatorios del 1 al 100) usando las dimensiones de X e Y que el usuario deberia ingresar por consola, luego crea una tupla con la matriz transpuesta y por ultimo las muestra ambas por consola .\n",
    "\n",
    "   - **Actividad 3**: Escribir un programa que almacene en una lista los siguientes precios, 50, 75, 46, 22, 80, 65, 8, y muestre por pantalla el menor y el mayor de los precios"
   ]
  },
  {
   "cell_type": "code",
   "execution_count": 36,
   "metadata": {},
   "outputs": [
    {
     "name": "stdout",
     "output_type": "stream",
     "text": [
      "('a', 1)\n",
      "('e', 2)\n",
      "('i', 1)\n",
      "('o', 1)\n",
      "('u', 0)\n",
      "(' ', 2)\n"
     ]
    }
   ],
   "source": [
    "\n",
    "text = input(\"Escribe una frase: \").lower()\n",
    "vocales = {\n",
    "    \"a\":0,\n",
    "    \"e\":0,\n",
    "    \"i\":0,\n",
    "    \"o\":0,\n",
    "    \"u\":0,\n",
    "    \" \":0\n",
    "}\n",
    "def cantidad_vocales():\n",
    "    for i in text:\n",
    "        if i in vocales:\n",
    "            vocales[i] += 1\n",
    "    for i in vocales.items():\n",
    "        print(i)\n",
    "    return\n",
    "            \n",
    "cantidad_vocales()\n",
    "    "
   ]
  },
  {
   "cell_type": "code",
   "execution_count": 41,
   "metadata": {},
   "outputs": [
    {
     "name": "stdout",
     "output_type": "stream",
     "text": [
      "[88, 53, 63, 66]\n",
      "[49, 52, 59, 51]\n",
      "(88, 49)\n",
      "(53, 52)\n",
      "(63, 59)\n",
      "(66, 51)\n"
     ]
    }
   ],
   "source": [
    "def crearMatriz():\n",
    "    x = int(input(\"Ingrese la cantidad de filas: \"))\n",
    "    y = int(input(\"Ingrese la cantidad de columnas: \"))\n",
    "    \n",
    "    matriz = []\n",
    "    \n",
    "    for i in range(x):\n",
    "        fila = []\n",
    "        for j in range(y):\n",
    "            fila.append(random.randint(1, 100))\n",
    "        matriz.append(fila)\n",
    "    \n",
    "    for k in matriz:\n",
    "        print(k)\n",
    "        \n",
    "    matriz_traspuesta = []\n",
    "    \n",
    "    for l in range(y):\n",
    "        traspuesta = []\n",
    "        for m in range(x):\n",
    "            traspuesta.append(matriz[m][l])\n",
    "        matriz_traspuesta.append(tuple(traspuesta))\n",
    "        \n",
    "    for n in matriz_traspuesta:\n",
    "        print(n)\n",
    "    return\n",
    "\n",
    "crearMatriz()"
   ]
  },
  {
   "cell_type": "code",
   "execution_count": 42,
   "metadata": {},
   "outputs": [
    {
     "name": "stdout",
     "output_type": "stream",
     "text": [
      "El menor precio es: 8\n",
      "El mayor precio es: 80\n"
     ]
    }
   ],
   "source": [
    "def min_max():\n",
    "    mis_precios = [50, 75, 46, 22, 80, 65, 8]\n",
    "\n",
    "    menor = min(mis_precios)\n",
    "    mayor = max(mis_precios)\n",
    "\n",
    "    print(\"El menor precio es:\", menor)\n",
    "    print(\"El mayor precio es:\", mayor)\n",
    "    return\n",
    "\n",
    "min_max()\n"
   ]
  },
  {
   "cell_type": "markdown",
   "metadata": {},
   "source": [
    "### 3. **Diccionarios**\n",
    "\n",
    "   - **Actividad 1**: Escribir un programa que cree un diccionario simulando una cesta de la compra. El programa debe preguntar el artículo y su precio y añadir el par al diccionario, hasta que el usuario decida terminar. Después se debe mostrar por pantalla la lista de la compra y el coste total, con el siguiente formato.\n",
    "\n",
    "   | arts  |precio |\n",
    "   |-------|-------|\n",
    "   |art 1  |1      |\n",
    "   |art 2  |2      |\n",
    "   |art 3  |3      |\n",
    "   |total  |6      |\n",
    "\n",
    "   - **Actividad 2**: Escribir un programa que cree un diccionario de traducción español-inglés. El usuario introducirá las palabras en español e inglés separadas por dos puntos, y cada par <palabra> : <traducción> separados por comas (es decir, solo se debe usar **UNA VEZ** la función input para la carga de palabras). El programa debe crear un diccionario con las palabras y sus traducciones. Después pedirá una frase en español y utilizará el diccionario para traducirla palabra a palabra. Si una palabra no está en el diccionario debe dejarla sin traducir.\n",
    "\n",
    "   - **Actividad 3**: Escribir un programa que reciba una cadena de caracteres y devuelva un diccionario con cada palabra que contiene y su frecuencia. Escribir otra función que reciba el diccionario generado con la función anterior y devuelva una tupla con la palabra más repetida y su frecuencia."
   ]
  },
  {
   "cell_type": "code",
   "execution_count": 54,
   "metadata": {},
   "outputs": [
    {
     "name": "stdout",
     "output_type": "stream",
     "text": [
      "| Artículo       | Precio   |\n",
      "|-------------|----------|\n",
      "| manteca         | $30.0 |\n",
      "| pan         | $50.0 |\n"
     ]
    }
   ],
   "source": [
    "def articulo_precio():\n",
    "    cantidad_articulos = int(input(\"Cuántos artículos quiere guardar? \"))\n",
    "    articulos = {\n",
    "        \"nombre\": [],\n",
    "        \"precio\": []\n",
    "    }\n",
    "\n",
    "    for i in range(1, cantidad_articulos + 1):\n",
    "        articulos_nombre = input(f\"Ingrese el nombre del artículo: \")\n",
    "        articulo_precio = float(input(f\"Ingrese el precio del artículo: \"))\n",
    "        articulos[\"nombre\"].append(articulos_nombre)\n",
    "        articulos[\"precio\"].append(articulo_precio)\n",
    "\n",
    "    print(\"| Artículo       | Precio   |\")\n",
    "    print(\"|-------------|----------|\")\n",
    "    for nombre, precio in zip(articulos[\"nombre\"], articulos[\"precio\"]):\n",
    "        print(f\"| {nombre}         | ${precio} |\")\n",
    "    return\n",
    "articulo_precio()"
   ]
  },
  {
   "cell_type": "code",
   "execution_count": 45,
   "metadata": {},
   "outputs": [
    {
     "name": "stdout",
     "output_type": "stream",
     "text": [
      "un dog y uncat atancaron a unhuman\n"
     ]
    }
   ],
   "source": [
    "def traductor():   \n",
    "    texto = input(\"Ingrese la palabra y su traducción EJEMPLO perro:dog, separados por coma: \").lower()\n",
    "    traducciones = {}\n",
    "    palabra = texto.split(\",\")\n",
    "    for i in palabra:\n",
    "        clave, valor = i.split(\":\")\n",
    "        traducciones[clave] = valor\n",
    "\n",
    "    oracion = input(\"Ingrese una oración: \")\n",
    "    for clave, valor in traducciones.items():\n",
    "        oracion = oracion.replace(clave, valor)\n",
    "    print(oracion)\n",
    "    return\n",
    "traductor()\n"
   ]
  },
  {
   "cell_type": "code",
   "execution_count": 53,
   "metadata": {},
   "outputs": [
    {
     "name": "stdout",
     "output_type": "stream",
     "text": [
      "Diccionario de frecuencias: {'hola': 2, 'mi': 1, 'gente': 1, 'como': 1, 'estan': 1}\n",
      "La palabra más repetida es 'hola' con una frecuencia de 2\n"
     ]
    }
   ],
   "source": [
    "def contar_palabras(texto):\n",
    "    palabras = texto.lower().split()\n",
    "    frecuencias = {}\n",
    "    for palabra in palabras:\n",
    "        palabra = palabra.strip(\".,;:¡!¿?\\\"'\")\n",
    "        if palabra in frecuencias:\n",
    "            frecuencias[palabra] += 1\n",
    "        else:\n",
    "            frecuencias[palabra] = 1\n",
    "    return frecuencias\n",
    "\n",
    "def palabra_mas_repetida(diccionario):\n",
    "    return max(diccionario.items(), key=lambda item: item[1])\n",
    "\n",
    "texto = input(\"Ingrese un texto: \")\n",
    "\n",
    "diccionario = contar_palabras(texto)\n",
    "print(\"Diccionario de frecuencias:\", diccionario)\n",
    "\n",
    "mas_repetida = palabra_mas_repetida(diccionario)\n",
    "print(f\"La palabra más repetida es '{mas_repetida[0]}' con una frecuencia de {mas_repetida[1]}\")\n"
   ]
  },
  {
   "cell_type": "markdown",
   "metadata": {},
   "source": [
    "### 4. **Funciones**\n",
    "\n",
    "- **Actividad 1**: Escribir una función que calcule el total de una factura tras aplicarle el IVA. La función debe recibir la cantidad sin IVA y el porcentaje de IVA a aplicar, y devolver el total de la factura. Si se invoca la función sin pasarle el porcentaje de IVA, deberá aplicar un 21%.\n",
    "\n",
    "- **Actividad 2**: Escribir una función que reciba un número entero positivo y devuelva su factorial.\n"
   ]
  },
  {
   "cell_type": "code",
   "execution_count": 46,
   "metadata": {},
   "outputs": [
    {
     "name": "stdout",
     "output_type": "stream",
     "text": [
      "El precio de la manteca es: 121.0\n"
     ]
    }
   ],
   "source": [
    "def precio(precio, iva=0.21):\n",
    "    producto = input(\"Ingrese el producto: \")\n",
    "    cantidad = precio * (1+iva)\n",
    "    print(f\"El precio de la {producto} es: {cantidad}\")\n",
    "\n",
    "precio(100)"
   ]
  },
  {
   "cell_type": "code",
   "execution_count": 52,
   "metadata": {},
   "outputs": [
    {
     "name": "stdout",
     "output_type": "stream",
     "text": [
      "El factorial de 4 es: 24\n"
     ]
    }
   ],
   "source": [
    "def factorial(n):\n",
    "    if n < 0:\n",
    "        return \"El número debe ser positivo\"\n",
    "    resultado = 1\n",
    "    \n",
    "    for i in range(1, n + 1):\n",
    "        resultado *= i\n",
    "    return print(f\"El factorial de {n} es: {resultado}\")\n",
    "\n",
    "factorial(4)\n"
   ]
  }
 ],
 "metadata": {
  "kernelspec": {
   "display_name": "marcelo_ortega",
   "language": "python",
   "name": "python3"
  },
  "language_info": {
   "codemirror_mode": {
    "name": "ipython",
    "version": 3
   },
   "file_extension": ".py",
   "mimetype": "text/x-python",
   "name": "python",
   "nbconvert_exporter": "python",
   "pygments_lexer": "ipython3",
   "version": "3.13.2"
  }
 },
 "nbformat": 4,
 "nbformat_minor": 2
}
